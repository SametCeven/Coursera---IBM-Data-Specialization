{
 "cells": [
  {
   "cell_type": "markdown",
   "id": "4188c0a4",
   "metadata": {},
   "source": [
    "### **Data Types**\n",
    "- Integer\n",
    "- Float \n",
    "- Str\n",
    "    - are immutable\n",
    "    - are sequences, list and tuple methods also work\n",
    "- Boolean"
   ]
  },
  {
   "cell_type": "code",
   "execution_count": 48,
   "id": "af722b4b",
   "metadata": {},
   "outputs": [
    {
     "data": {
      "text/plain": [
       "int"
      ]
     },
     "execution_count": 48,
     "metadata": {},
     "output_type": "execute_result"
    }
   ],
   "source": [
    "x = 5\n",
    "type(x)"
   ]
  },
  {
   "cell_type": "markdown",
   "id": "4973e8e1",
   "metadata": {},
   "source": [
    "### **Type Casting**"
   ]
  },
  {
   "cell_type": "code",
   "execution_count": 49,
   "id": "31da8479",
   "metadata": {},
   "outputs": [
    {
     "name": "stdout",
     "output_type": "stream",
     "text": [
      "5\n",
      "5.0\n",
      "5\n",
      "True\n"
     ]
    }
   ],
   "source": [
    "x = 5\n",
    "print(int(x))\n",
    "print(float(x))\n",
    "print(str(x))\n",
    "print(bool(x))"
   ]
  },
  {
   "cell_type": "markdown",
   "id": "07d0ad6c",
   "metadata": {},
   "source": [
    "### **Expressions**"
   ]
  },
  {
   "cell_type": "code",
   "execution_count": 50,
   "id": "0591cc30",
   "metadata": {},
   "outputs": [
    {
     "name": "stdout",
     "output_type": "stream",
     "text": [
      "3\n",
      "1\n"
     ]
    }
   ],
   "source": [
    "print(7//2)    # floor division\n",
    "print(7%2)     # mod"
   ]
  },
  {
   "cell_type": "markdown",
   "id": "91f7413a",
   "metadata": {},
   "source": [
    "### **String Operations**"
   ]
  },
  {
   "cell_type": "code",
   "execution_count": 59,
   "id": "7d9abddb",
   "metadata": {},
   "outputs": [
    {
     "name": "stdout",
     "output_type": "stream",
     "text": [
      "Hello World Hey\n"
     ]
    }
   ],
   "source": [
    "x = \"Hello World\"\n",
    "x[2]        # returns index\n",
    "x[-1]       # returns last index\n",
    "x[-2]       # return index from last\n",
    "x[0:4]      # slicing 0-included, 4-not included\n",
    "x[::2]      # striding returns with index 0,2,4,6..\n",
    "x[0:5:2]    # slicing + striding, first slice then stride\n",
    "y = \" Hey\"\n",
    "x + y       # concanates\n",
    "x * 3       # replicates\n",
    "#x[2] = \"a\"  # error, strings are immutable\n",
    "x = x + y\n",
    "print(x)"
   ]
  },
  {
   "cell_type": "markdown",
   "id": "22e427d7",
   "metadata": {},
   "source": [
    "### **Escape Sequences**"
   ]
  },
  {
   "cell_type": "code",
   "execution_count": 106,
   "id": "ddb079a9",
   "metadata": {},
   "outputs": [
    {
     "name": "stdout",
     "output_type": "stream",
     "text": [
      "asd \n",
      " asd\n",
      "asd \t asd\n",
      "asd \\ asd\n",
      "C:\\new\\file.txt\n",
      "C:\n",
      "ew\file.txt\n"
     ]
    }
   ],
   "source": [
    "print(\"asd \\n asd\")     # new line\n",
    "print(\"asd \\t asd\")     # tab\n",
    "#print(\"asd \\ asd\")     # error\n",
    "print(\"asd \\\\ asd\")     # to write \\\n",
    "\n",
    "# Raw String\n",
    "raw_string = r\"C:\\new\\file.txt\"\n",
    "print(raw_string)\n",
    "string = \"C:\\new\\file.txt\"\n",
    "print(string)"
   ]
  },
  {
   "cell_type": "markdown",
   "id": "803f52f3",
   "metadata": {},
   "source": [
    "### **String Methods**"
   ]
  },
  {
   "cell_type": "code",
   "execution_count": 92,
   "id": "f6c4853d",
   "metadata": {},
   "outputs": [
    {
     "name": "stdout",
     "output_type": "stream",
     "text": [
      "HELLO WORLD\n",
      "hello world\n",
      "bello World\n",
      "2\n",
      "['Hello World ', ' Hello Word']\n",
      "Hello World . Hello Word\n"
     ]
    }
   ],
   "source": [
    "x = \"Hello World\"\n",
    "len(x)                      # length\n",
    "y = x.upper()               # upper case\n",
    "print(y)\n",
    "y = x.lower()               # lower case\n",
    "print(y)\n",
    "y = x.replace(\"H\",\"b\")      # case sensitive\n",
    "print(y)\n",
    "y = x.find(\"l\")             # returns first index, if not returns -1\n",
    "print(y)\n",
    "\n",
    "x = \"Hello World . Hello Word\"\n",
    "y = x.split(\".\")            # sublist of substrings\n",
    "print(y)\n",
    "\n",
    "y = x.strip()               # removes white spaces\n",
    "print(y)"
   ]
  },
  {
   "cell_type": "markdown",
   "id": "c3c3ac10",
   "metadata": {},
   "source": [
    "### **String Interpolation**"
   ]
  },
  {
   "cell_type": "code",
   "execution_count": 108,
   "id": "e60d5afc",
   "metadata": {},
   "outputs": [
    {
     "name": "stdout",
     "output_type": "stream",
     "text": [
      "My Name is John and I am 30 years old.\n",
      "Total of 10 and 2 is 12\n",
      "My name is John and I am years 30 old.\n",
      "My name is John and I am 30 years old.\n"
     ]
    }
   ],
   "source": [
    "name = \"John\"\n",
    "age = 30\n",
    "\n",
    "# 1st Method\n",
    "print(f\"My Name is {name} and I am {age} years old.\")\n",
    "print(f\"Total of 10 and 2 is {10+2}\")\n",
    "\n",
    "# 2nd Method\n",
    "print(\"My name is {} and I am years {} old.\".format(name,age))\n",
    "\n",
    "# 3rd Method\n",
    "# %s placeholder for text, %d placeholder for integer\n",
    "print(\"My name is %s and I am %d years old.\"%(name,age))"
   ]
  },
  {
   "cell_type": "markdown",
   "id": "546be5ec",
   "metadata": {},
   "source": [
    "### **Regex**"
   ]
  },
  {
   "cell_type": "code",
   "execution_count": 135,
   "id": "b645b75a",
   "metadata": {},
   "outputs": [
    {
     "name": "stdout",
     "output_type": "stream",
     "text": [
      "<re.Match object; span=(8, 10), match='a1'>\n",
      "a1\n",
      "[',', ' ', '!']\n",
      "The BodyGuard is the best album of 'legend'.\n",
      "['x', 'y', 'z', 'b']\n"
     ]
    }
   ],
   "source": [
    "import re\n",
    "\n",
    "pattern = \"a1\"\n",
    "text = \"a2a3a4a5a1\"\n",
    "match = re.search(pattern,text)\n",
    "print(match)\n",
    "print(match.group())\n",
    "\n",
    "pattern = r\"\\W\"\n",
    "text = \"Hello, World!\"\n",
    "matches = re.findall(pattern,text)\n",
    "print(matches)\n",
    "\n",
    "pattern = r\"Whitney Houston\"\n",
    "replacement = \"legend\"\n",
    "text = \"The BodyGuard is the best album of 'Whitney Houston'.\"\n",
    "new_string = re.sub(pattern,replacement,text,flags=re.IGNORECASE)\n",
    "print(new_string)\n",
    "\n",
    "pattern = r\"\\.\"\n",
    "text = \"x.y.z.b\"\n",
    "new_text = re.split(pattern,text)\n",
    "print(new_text)\n"
   ]
  }
 ],
 "metadata": {
  "kernelspec": {
   "display_name": "CourseraIBMvenv",
   "language": "python",
   "name": "python3"
  },
  "language_info": {
   "codemirror_mode": {
    "name": "ipython",
    "version": 3
   },
   "file_extension": ".py",
   "mimetype": "text/x-python",
   "name": "python",
   "nbconvert_exporter": "python",
   "pygments_lexer": "ipython3",
   "version": "3.13.5"
  }
 },
 "nbformat": 4,
 "nbformat_minor": 5
}
